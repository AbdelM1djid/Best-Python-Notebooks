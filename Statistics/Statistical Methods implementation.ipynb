{
 "cells": [
  {
   "cell_type": "markdown",
   "id": "5b28b8fc",
   "metadata": {},
   "source": [
    "### Statistical Methods "
   ]
  },
  {
   "cell_type": "code",
   "execution_count": 1,
   "id": "f9045ced",
   "metadata": {},
   "outputs": [],
   "source": [
    "import numpy as np \n",
    "import pandas as pd\n",
    "import matplotlib.pyplot as plt\n",
    "import seaborn as sns \n",
    "sns.set()\n",
    "import  researchpy as rp\n",
    "from scipy import stats "
   ]
  },
  {
   "cell_type": "code",
   "execution_count": 2,
   "id": "641f2626",
   "metadata": {},
   "outputs": [],
   "source": [
    "Anime = pd.read_csv('E:\\\\Work\\\\Data Analysis Projects\\\\Anime Project\\\\anime.csv')"
   ]
  },
  {
   "cell_type": "code",
   "execution_count": 5,
   "id": "2abfef3d",
   "metadata": {},
   "outputs": [
    {
     "data": {
      "text/plain": [
       "anime_id      int64\n",
       "name         object\n",
       "genre        object\n",
       "type         object\n",
       "episodes     object\n",
       "rating      float64\n",
       "members       int64\n",
       "dtype: object"
      ]
     },
     "execution_count": 5,
     "metadata": {},
     "output_type": "execute_result"
    }
   ],
   "source": [
    "Anime.dtypes"
   ]
  },
  {
   "cell_type": "code",
   "execution_count": 13,
   "id": "80f70fe9",
   "metadata": {},
   "outputs": [
    {
     "data": {
      "text/plain": [
       "(12294, 7)"
      ]
     },
     "execution_count": 13,
     "metadata": {},
     "output_type": "execute_result"
    }
   ],
   "source": [
    "Anime.shape"
   ]
  },
  {
   "cell_type": "markdown",
   "id": "462bbbfd",
   "metadata": {},
   "source": [
    "## Correlation "
   ]
  },
  {
   "cell_type": "markdown",
   "id": "80f97dca",
   "metadata": {},
   "source": [
    "#### *Continuous and Continuous* "
   ]
  },
  {
   "cell_type": "code",
   "execution_count": 3,
   "id": "966e5570",
   "metadata": {},
   "outputs": [
    {
     "data": {
      "text/html": [
       "<div>\n",
       "<style scoped>\n",
       "    .dataframe tbody tr th:only-of-type {\n",
       "        vertical-align: middle;\n",
       "    }\n",
       "\n",
       "    .dataframe tbody tr th {\n",
       "        vertical-align: top;\n",
       "    }\n",
       "\n",
       "    .dataframe thead th {\n",
       "        text-align: right;\n",
       "    }\n",
       "</style>\n",
       "<table border=\"1\" class=\"dataframe\">\n",
       "  <thead>\n",
       "    <tr style=\"text-align: right;\">\n",
       "      <th></th>\n",
       "      <th>anime_id</th>\n",
       "      <th>name</th>\n",
       "      <th>genre</th>\n",
       "      <th>type</th>\n",
       "      <th>episodes</th>\n",
       "      <th>rating</th>\n",
       "      <th>members</th>\n",
       "    </tr>\n",
       "  </thead>\n",
       "  <tbody>\n",
       "    <tr>\n",
       "      <th>0</th>\n",
       "      <td>32281</td>\n",
       "      <td>Kimi no Na wa.</td>\n",
       "      <td>Drama, Romance, School, Supernatural</td>\n",
       "      <td>Movie</td>\n",
       "      <td>1</td>\n",
       "      <td>9.37</td>\n",
       "      <td>200630</td>\n",
       "    </tr>\n",
       "    <tr>\n",
       "      <th>1</th>\n",
       "      <td>5114</td>\n",
       "      <td>Fullmetal Alchemist: Brotherhood</td>\n",
       "      <td>Action, Adventure, Drama, Fantasy, Magic, Mili...</td>\n",
       "      <td>TV</td>\n",
       "      <td>64</td>\n",
       "      <td>9.26</td>\n",
       "      <td>793665</td>\n",
       "    </tr>\n",
       "    <tr>\n",
       "      <th>2</th>\n",
       "      <td>28977</td>\n",
       "      <td>Gintama°</td>\n",
       "      <td>Action, Comedy, Historical, Parody, Samurai, S...</td>\n",
       "      <td>TV</td>\n",
       "      <td>51</td>\n",
       "      <td>9.25</td>\n",
       "      <td>114262</td>\n",
       "    </tr>\n",
       "    <tr>\n",
       "      <th>3</th>\n",
       "      <td>9253</td>\n",
       "      <td>Steins;Gate</td>\n",
       "      <td>Sci-Fi, Thriller</td>\n",
       "      <td>TV</td>\n",
       "      <td>24</td>\n",
       "      <td>9.17</td>\n",
       "      <td>673572</td>\n",
       "    </tr>\n",
       "    <tr>\n",
       "      <th>4</th>\n",
       "      <td>9969</td>\n",
       "      <td>Gintama&amp;#039;</td>\n",
       "      <td>Action, Comedy, Historical, Parody, Samurai, S...</td>\n",
       "      <td>TV</td>\n",
       "      <td>51</td>\n",
       "      <td>9.16</td>\n",
       "      <td>151266</td>\n",
       "    </tr>\n",
       "  </tbody>\n",
       "</table>\n",
       "</div>"
      ],
      "text/plain": [
       "   anime_id                              name  \\\n",
       "0     32281                    Kimi no Na wa.   \n",
       "1      5114  Fullmetal Alchemist: Brotherhood   \n",
       "2     28977                          Gintama°   \n",
       "3      9253                       Steins;Gate   \n",
       "4      9969                     Gintama&#039;   \n",
       "\n",
       "                                               genre   type episodes  rating  \\\n",
       "0               Drama, Romance, School, Supernatural  Movie        1    9.37   \n",
       "1  Action, Adventure, Drama, Fantasy, Magic, Mili...     TV       64    9.26   \n",
       "2  Action, Comedy, Historical, Parody, Samurai, S...     TV       51    9.25   \n",
       "3                                   Sci-Fi, Thriller     TV       24    9.17   \n",
       "4  Action, Comedy, Historical, Parody, Samurai, S...     TV       51    9.16   \n",
       "\n",
       "   members  \n",
       "0   200630  \n",
       "1   793665  \n",
       "2   114262  \n",
       "3   673572  \n",
       "4   151266  "
      ]
     },
     "execution_count": 3,
     "metadata": {},
     "output_type": "execute_result"
    }
   ],
   "source": [
    "Anime.head()"
   ]
  },
  {
   "cell_type": "code",
   "execution_count": 12,
   "id": "aea1cf87",
   "metadata": {},
   "outputs": [
    {
     "data": {
      "text/plain": [
       "array(['1', '64', '51', '24', '10', '148', '110', '13', '201', '25', '22',\n",
       "       '75', '4', '26', '12', '27', '43', '74', '37', '2', '11', '99',\n",
       "       'Unknown', '39', '101', '47', '50', '62', '33', '112', '23', '3',\n",
       "       '94', '6', '8', '14', '7', '40', '15', '203', '77', '291', '120',\n",
       "       '102', '96', '38', '79', '175', '103', '70', '153', '45', '5',\n",
       "       '21', '63', '52', '28', '145', '36', '69', '60', '178', '114',\n",
       "       '35', '61', '34', '109', '20', '9', '49', '366', '97', '48', '78',\n",
       "       '358', '155', '104', '113', '54', '167', '161', '42', '142', '31',\n",
       "       '373', '220', '46', '195', '17', '1787', '73', '147', '127', '16',\n",
       "       '19', '98', '150', '76', '53', '124', '29', '115', '224', '44',\n",
       "       '58', '93', '154', '92', '67', '172', '86', '30', '276', '59',\n",
       "       '72', '330', '41', '105', '128', '137', '56', '55', '65', '243',\n",
       "       '193', '18', '191', '180', '91', '192', '66', '182', '32', '164',\n",
       "       '100', '296', '694', '95', '68', '117', '151', '130', '87', '170',\n",
       "       '119', '84', '108', '156', '140', '331', '305', '300', '510',\n",
       "       '200', '88', '1471', '526', '143', '726', '136', '1818', '237',\n",
       "       '1428', '365', '163', '283', '71', '260', '199', '225', '312',\n",
       "       '240', '1306', '1565', '773', '1274', '90', '475', '263', '83',\n",
       "       '85', '1006', '80', '162', '132', '141', '125'], dtype=object)"
      ]
     },
     "execution_count": 12,
     "metadata": {},
     "output_type": "execute_result"
    }
   ],
   "source": [
    "Anime['episodes'].unique()"
   ]
  },
  {
   "cell_type": "code",
   "execution_count": 37,
   "id": "66e677f8",
   "metadata": {},
   "outputs": [
    {
     "data": {
      "text/plain": [
       "array(['Movie', 'TV', 'OVA', 'Special', 'Music', 'ONA'], dtype=object)"
      ]
     },
     "execution_count": 37,
     "metadata": {},
     "output_type": "execute_result"
    }
   ],
   "source": [
    "Anime.type.unique()"
   ]
  },
  {
   "cell_type": "code",
   "execution_count": 26,
   "id": "efa22997",
   "metadata": {},
   "outputs": [],
   "source": [
    "#dropping  \n",
    "Anime.drop(Anime[Anime['episodes']=='Unknown'].index,inplace=True)"
   ]
  },
  {
   "cell_type": "code",
   "execution_count": 27,
   "id": "c057ec98",
   "metadata": {},
   "outputs": [],
   "source": [
    "Anime['episodes'] = Anime['episodes'].astype('int64')"
   ]
  },
  {
   "cell_type": "markdown",
   "id": "705a97dd",
   "metadata": {},
   "source": []
  },
  {
   "cell_type": "code",
   "execution_count": 29,
   "id": "2649839f",
   "metadata": {},
   "outputs": [
    {
     "data": {
      "text/plain": [
       "<AxesSubplot:>"
      ]
     },
     "execution_count": 29,
     "metadata": {},
     "output_type": "execute_result"
    },
    {
     "data": {
      "image/png": "[encoded data removed]",
      "text/plain": [
       "<Figure size 720x360 with 2 Axes>"
      ]
     },
     "metadata": {},
     "output_type": "display_data"
    }
   ],
   "source": [
    "plt.figure(figsize=(10,5))\n",
    "sns.heatmap(Anime.corr(),annot = True)"
   ]
  },
  {
   "cell_type": "code",
   "execution_count": 35,
   "id": "183bd9ad",
   "metadata": {},
   "outputs": [],
   "source": [
    "#to get rid off nan values\n",
    "import numpy.ma as ma\n"
   ]
  },
  {
   "cell_type": "code",
   "execution_count": 36,
   "id": "2f062a25",
   "metadata": {},
   "outputs": [
    {
     "data": {
      "text/plain": [
       "masked_array(\n",
       "  data=[[1.0, 0.08876116457678972],\n",
       "        [0.08876116457678972, 1.0]],\n",
       "  mask=[[False, False],\n",
       "        [False, False]],\n",
       "  fill_value=1e+20)"
      ]
     },
     "execution_count": 36,
     "metadata": {},
     "output_type": "execute_result"
    }
   ],
   "source": [
    "#or using numpy\n",
    "x=Anime.rating\n",
    "y=Anime.episodes\n",
    "ma.corrcoef(ma.masked_invalid(x), ma.masked_invalid(y))"
   ]
  },
  {
   "cell_type": "markdown",
   "id": "aca7e0d2",
   "metadata": {},
   "source": [
    "## Chi Squared"
   ]
  },
  {
   "cell_type": "markdown",
   "id": "9a9187b2",
   "metadata": {},
   "source": [
    "#### *Categorical and Categorical*"
   ]
  },
  {
   "cell_type": "code",
   "execution_count": 39,
   "id": "04ad65d0",
   "metadata": {},
   "outputs": [
    {
     "data": {
      "text/html": [
       "<div>\n",
       "<style scoped>\n",
       "    .dataframe tbody tr th:only-of-type {\n",
       "        vertical-align: middle;\n",
       "    }\n",
       "\n",
       "    .dataframe tbody tr th {\n",
       "        vertical-align: top;\n",
       "    }\n",
       "\n",
       "    .dataframe thead th {\n",
       "        text-align: right;\n",
       "    }\n",
       "</style>\n",
       "<table border=\"1\" class=\"dataframe\">\n",
       "  <thead>\n",
       "    <tr style=\"text-align: right;\">\n",
       "      <th></th>\n",
       "      <th>Variable</th>\n",
       "      <th>Outcome</th>\n",
       "      <th>Count</th>\n",
       "      <th>Percent</th>\n",
       "    </tr>\n",
       "  </thead>\n",
       "  <tbody>\n",
       "    <tr>\n",
       "      <th>0</th>\n",
       "      <td>type</td>\n",
       "      <td>TV</td>\n",
       "      <td>3578</td>\n",
       "      <td>29.93</td>\n",
       "    </tr>\n",
       "    <tr>\n",
       "      <th>1</th>\n",
       "      <td></td>\n",
       "      <td>OVA</td>\n",
       "      <td>3261</td>\n",
       "      <td>27.28</td>\n",
       "    </tr>\n",
       "    <tr>\n",
       "      <th>2</th>\n",
       "      <td></td>\n",
       "      <td>Movie</td>\n",
       "      <td>2344</td>\n",
       "      <td>19.61</td>\n",
       "    </tr>\n",
       "    <tr>\n",
       "      <th>3</th>\n",
       "      <td></td>\n",
       "      <td>Special</td>\n",
       "      <td>1671</td>\n",
       "      <td>13.98</td>\n",
       "    </tr>\n",
       "    <tr>\n",
       "      <th>4</th>\n",
       "      <td></td>\n",
       "      <td>ONA</td>\n",
       "      <td>613</td>\n",
       "      <td>5.13</td>\n",
       "    </tr>\n",
       "    <tr>\n",
       "      <th>...</th>\n",
       "      <td>...</td>\n",
       "      <td>...</td>\n",
       "      <td>...</td>\n",
       "      <td>...</td>\n",
       "    </tr>\n",
       "    <tr>\n",
       "      <th>3223</th>\n",
       "      <td></td>\n",
       "      <td>Comedy, Magic, School</td>\n",
       "      <td>1</td>\n",
       "      <td>0.01</td>\n",
       "    </tr>\n",
       "    <tr>\n",
       "      <th>3224</th>\n",
       "      <td></td>\n",
       "      <td>Adventure, Comedy, Mecha, Sci-Fi, Shounen, Sports</td>\n",
       "      <td>1</td>\n",
       "      <td>0.01</td>\n",
       "    </tr>\n",
       "    <tr>\n",
       "      <th>3225</th>\n",
       "      <td></td>\n",
       "      <td>Comedy, Drama, Magic, Romance, School</td>\n",
       "      <td>1</td>\n",
       "      <td>0.01</td>\n",
       "    </tr>\n",
       "    <tr>\n",
       "      <th>3226</th>\n",
       "      <td></td>\n",
       "      <td>Action, Drama, Hentai, Horror, Mystery, Police...</td>\n",
       "      <td>1</td>\n",
       "      <td>0.01</td>\n",
       "    </tr>\n",
       "    <tr>\n",
       "      <th>3227</th>\n",
       "      <td></td>\n",
       "      <td>Fantasy, Hentai, Horror</td>\n",
       "      <td>1</td>\n",
       "      <td>0.01</td>\n",
       "    </tr>\n",
       "  </tbody>\n",
       "</table>\n",
       "<p>3228 rows × 4 columns</p>\n",
       "</div>"
      ],
      "text/plain": [
       "     Variable                                            Outcome  Count  \\\n",
       "0        type                                                 TV   3578   \n",
       "1                                                            OVA   3261   \n",
       "2                                                          Movie   2344   \n",
       "3                                                        Special   1671   \n",
       "4                                                            ONA    613   \n",
       "...       ...                                                ...    ...   \n",
       "3223                                       Comedy, Magic, School      1   \n",
       "3224           Adventure, Comedy, Mecha, Sci-Fi, Shounen, Sports      1   \n",
       "3225                       Comedy, Drama, Magic, Romance, School      1   \n",
       "3226           Action, Drama, Hentai, Horror, Mystery, Police...      1   \n",
       "3227                                     Fantasy, Hentai, Horror      1   \n",
       "\n",
       "      Percent  \n",
       "0       29.93  \n",
       "1       27.28  \n",
       "2       19.61  \n",
       "3       13.98  \n",
       "4        5.13  \n",
       "...       ...  \n",
       "3223     0.01  \n",
       "3224     0.01  \n",
       "3225     0.01  \n",
       "3226     0.01  \n",
       "3227     0.01  \n",
       "\n",
       "[3228 rows x 4 columns]"
      ]
     },
     "execution_count": 39,
     "metadata": {},
     "output_type": "execute_result"
    }
   ],
   "source": [
    "#to count categorical variables\n",
    "rp.summary_cat(Anime[['type','genre']])"
   ]
  },
  {
   "cell_type": "code",
   "execution_count": 41,
   "id": "a327a64f",
   "metadata": {},
   "outputs": [
    {
     "data": {
      "text/html": [
       "<div>\n",
       "<style scoped>\n",
       "    .dataframe tbody tr th:only-of-type {\n",
       "        vertical-align: middle;\n",
       "    }\n",
       "\n",
       "    .dataframe tbody tr th {\n",
       "        vertical-align: top;\n",
       "    }\n",
       "\n",
       "    .dataframe thead th {\n",
       "        text-align: right;\n",
       "    }\n",
       "</style>\n",
       "<table border=\"1\" class=\"dataframe\">\n",
       "  <thead>\n",
       "    <tr style=\"text-align: right;\">\n",
       "      <th>genre</th>\n",
       "      <th>Action</th>\n",
       "      <th>Action, Adventure</th>\n",
       "      <th>Action, Adventure, Cars, Comedy, Sci-Fi, Shounen</th>\n",
       "      <th>Action, Adventure, Cars, Mecha, Sci-Fi, Shounen, Sports</th>\n",
       "      <th>Action, Adventure, Cars, Sci-Fi</th>\n",
       "      <th>Action, Adventure, Comedy</th>\n",
       "      <th>Action, Adventure, Comedy, Demons, Drama, Ecchi, Horror, Mystery, Romance, Sci-Fi</th>\n",
       "      <th>Action, Adventure, Comedy, Demons, Fantasy, Magic</th>\n",
       "      <th>Action, Adventure, Comedy, Demons, Fantasy, Magic, Romance, Shounen, Supernatural</th>\n",
       "      <th>Action, Adventure, Comedy, Demons, Fantasy, Martial Arts, Shounen, Super Power</th>\n",
       "      <th>...</th>\n",
       "      <th>Slice of Life</th>\n",
       "      <th>Slice of Life, Space</th>\n",
       "      <th>Slice of Life, Supernatural</th>\n",
       "      <th>Space</th>\n",
       "      <th>Sports</th>\n",
       "      <th>Super Power, Supernatural, Vampire</th>\n",
       "      <th>Supernatural</th>\n",
       "      <th>Thriller</th>\n",
       "      <th>Vampire</th>\n",
       "      <th>Yaoi</th>\n",
       "    </tr>\n",
       "    <tr>\n",
       "      <th>type</th>\n",
       "      <th></th>\n",
       "      <th></th>\n",
       "      <th></th>\n",
       "      <th></th>\n",
       "      <th></th>\n",
       "      <th></th>\n",
       "      <th></th>\n",
       "      <th></th>\n",
       "      <th></th>\n",
       "      <th></th>\n",
       "      <th></th>\n",
       "      <th></th>\n",
       "      <th></th>\n",
       "      <th></th>\n",
       "      <th></th>\n",
       "      <th></th>\n",
       "      <th></th>\n",
       "      <th></th>\n",
       "      <th></th>\n",
       "      <th></th>\n",
       "      <th></th>\n",
       "    </tr>\n",
       "  </thead>\n",
       "  <tbody>\n",
       "    <tr>\n",
       "      <th>Movie</th>\n",
       "      <td>18</td>\n",
       "      <td>4</td>\n",
       "      <td>1</td>\n",
       "      <td>0</td>\n",
       "      <td>1</td>\n",
       "      <td>4</td>\n",
       "      <td>0</td>\n",
       "      <td>0</td>\n",
       "      <td>0</td>\n",
       "      <td>1</td>\n",
       "      <td>...</td>\n",
       "      <td>18</td>\n",
       "      <td>0</td>\n",
       "      <td>0</td>\n",
       "      <td>0</td>\n",
       "      <td>8</td>\n",
       "      <td>0</td>\n",
       "      <td>9</td>\n",
       "      <td>0</td>\n",
       "      <td>0</td>\n",
       "      <td>0</td>\n",
       "    </tr>\n",
       "    <tr>\n",
       "      <th>Music</th>\n",
       "      <td>0</td>\n",
       "      <td>0</td>\n",
       "      <td>0</td>\n",
       "      <td>0</td>\n",
       "      <td>0</td>\n",
       "      <td>0</td>\n",
       "      <td>0</td>\n",
       "      <td>0</td>\n",
       "      <td>0</td>\n",
       "      <td>0</td>\n",
       "      <td>...</td>\n",
       "      <td>0</td>\n",
       "      <td>0</td>\n",
       "      <td>0</td>\n",
       "      <td>0</td>\n",
       "      <td>0</td>\n",
       "      <td>0</td>\n",
       "      <td>0</td>\n",
       "      <td>0</td>\n",
       "      <td>0</td>\n",
       "      <td>0</td>\n",
       "    </tr>\n",
       "    <tr>\n",
       "      <th>ONA</th>\n",
       "      <td>13</td>\n",
       "      <td>1</td>\n",
       "      <td>0</td>\n",
       "      <td>0</td>\n",
       "      <td>0</td>\n",
       "      <td>0</td>\n",
       "      <td>0</td>\n",
       "      <td>0</td>\n",
       "      <td>0</td>\n",
       "      <td>0</td>\n",
       "      <td>...</td>\n",
       "      <td>25</td>\n",
       "      <td>1</td>\n",
       "      <td>1</td>\n",
       "      <td>1</td>\n",
       "      <td>2</td>\n",
       "      <td>0</td>\n",
       "      <td>1</td>\n",
       "      <td>0</td>\n",
       "      <td>0</td>\n",
       "      <td>0</td>\n",
       "    </tr>\n",
       "    <tr>\n",
       "      <th>OVA</th>\n",
       "      <td>11</td>\n",
       "      <td>3</td>\n",
       "      <td>1</td>\n",
       "      <td>0</td>\n",
       "      <td>0</td>\n",
       "      <td>2</td>\n",
       "      <td>0</td>\n",
       "      <td>0</td>\n",
       "      <td>0</td>\n",
       "      <td>0</td>\n",
       "      <td>...</td>\n",
       "      <td>14</td>\n",
       "      <td>0</td>\n",
       "      <td>0</td>\n",
       "      <td>0</td>\n",
       "      <td>7</td>\n",
       "      <td>1</td>\n",
       "      <td>0</td>\n",
       "      <td>0</td>\n",
       "      <td>0</td>\n",
       "      <td>2</td>\n",
       "    </tr>\n",
       "    <tr>\n",
       "      <th>Special</th>\n",
       "      <td>6</td>\n",
       "      <td>2</td>\n",
       "      <td>0</td>\n",
       "      <td>0</td>\n",
       "      <td>0</td>\n",
       "      <td>0</td>\n",
       "      <td>0</td>\n",
       "      <td>0</td>\n",
       "      <td>0</td>\n",
       "      <td>0</td>\n",
       "      <td>...</td>\n",
       "      <td>26</td>\n",
       "      <td>1</td>\n",
       "      <td>1</td>\n",
       "      <td>0</td>\n",
       "      <td>7</td>\n",
       "      <td>0</td>\n",
       "      <td>2</td>\n",
       "      <td>1</td>\n",
       "      <td>1</td>\n",
       "      <td>0</td>\n",
       "    </tr>\n",
       "    <tr>\n",
       "      <th>TV</th>\n",
       "      <td>5</td>\n",
       "      <td>5</td>\n",
       "      <td>0</td>\n",
       "      <td>1</td>\n",
       "      <td>0</td>\n",
       "      <td>3</td>\n",
       "      <td>1</td>\n",
       "      <td>1</td>\n",
       "      <td>2</td>\n",
       "      <td>0</td>\n",
       "      <td>...</td>\n",
       "      <td>13</td>\n",
       "      <td>0</td>\n",
       "      <td>0</td>\n",
       "      <td>0</td>\n",
       "      <td>16</td>\n",
       "      <td>0</td>\n",
       "      <td>2</td>\n",
       "      <td>0</td>\n",
       "      <td>0</td>\n",
       "      <td>0</td>\n",
       "    </tr>\n",
       "  </tbody>\n",
       "</table>\n",
       "<p>6 rows × 3222 columns</p>\n",
       "</div>"
      ],
      "text/plain": [
       "genre    Action  Action, Adventure  \\\n",
       "type                                 \n",
       "Movie        18                  4   \n",
       "Music         0                  0   \n",
       "ONA          13                  1   \n",
       "OVA          11                  3   \n",
       "Special       6                  2   \n",
       "TV            5                  5   \n",
       "\n",
       "genre    Action, Adventure, Cars, Comedy, Sci-Fi, Shounen  \\\n",
       "type                                                        \n",
       "Movie                                                   1   \n",
       "Music                                                   0   \n",
       "ONA                                                     0   \n",
       "OVA                                                     1   \n",
       "Special                                                 0   \n",
       "TV                                                      0   \n",
       "\n",
       "genre    Action, Adventure, Cars, Mecha, Sci-Fi, Shounen, Sports  \\\n",
       "type                                                               \n",
       "Movie                                                    0         \n",
       "Music                                                    0         \n",
       "ONA                                                      0         \n",
       "OVA                                                      0         \n",
       "Special                                                  0         \n",
       "TV                                                       1         \n",
       "\n",
       "genre    Action, Adventure, Cars, Sci-Fi  Action, Adventure, Comedy  \\\n",
       "type                                                                  \n",
       "Movie                                  1                          4   \n",
       "Music                                  0                          0   \n",
       "ONA                                    0                          0   \n",
       "OVA                                    0                          2   \n",
       "Special                                0                          0   \n",
       "TV                                     0                          3   \n",
       "\n",
       "genre    Action, Adventure, Comedy, Demons, Drama, Ecchi, Horror, Mystery, Romance, Sci-Fi  \\\n",
       "type                                                                                         \n",
       "Movie                                                    0                                   \n",
       "Music                                                    0                                   \n",
       "ONA                                                      0                                   \n",
       "OVA                                                      0                                   \n",
       "Special                                                  0                                   \n",
       "TV                                                       1                                   \n",
       "\n",
       "genre    Action, Adventure, Comedy, Demons, Fantasy, Magic  \\\n",
       "type                                                         \n",
       "Movie                                                    0   \n",
       "Music                                                    0   \n",
       "ONA                                                      0   \n",
       "OVA                                                      0   \n",
       "Special                                                  0   \n",
       "TV                                                       1   \n",
       "\n",
       "genre    Action, Adventure, Comedy, Demons, Fantasy, Magic, Romance, Shounen, Supernatural  \\\n",
       "type                                                                                         \n",
       "Movie                                                    0                                   \n",
       "Music                                                    0                                   \n",
       "ONA                                                      0                                   \n",
       "OVA                                                      0                                   \n",
       "Special                                                  0                                   \n",
       "TV                                                       2                                   \n",
       "\n",
       "genre    Action, Adventure, Comedy, Demons, Fantasy, Martial Arts, Shounen, Super Power  \\\n",
       "type                                                                                      \n",
       "Movie                                                    1                                \n",
       "Music                                                    0                                \n",
       "ONA                                                      0                                \n",
       "OVA                                                      0                                \n",
       "Special                                                  0                                \n",
       "TV                                                       0                                \n",
       "\n",
       "genre    ...  Slice of Life  Slice of Life, Space  \\\n",
       "type     ...                                        \n",
       "Movie    ...             18                     0   \n",
       "Music    ...              0                     0   \n",
       "ONA      ...             25                     1   \n",
       "OVA      ...             14                     0   \n",
       "Special  ...             26                     1   \n",
       "TV       ...             13                     0   \n",
       "\n",
       "genre    Slice of Life, Supernatural  Space  Sports  \\\n",
       "type                                                  \n",
       "Movie                              0      0       8   \n",
       "Music                              0      0       0   \n",
       "ONA                                1      1       2   \n",
       "OVA                                0      0       7   \n",
       "Special                            1      0       7   \n",
       "TV                                 0      0      16   \n",
       "\n",
       "genre    Super Power, Supernatural, Vampire  Supernatural  Thriller  Vampire  \\\n",
       "type                                                                           \n",
       "Movie                                     0             9         0        0   \n",
       "Music                                     0             0         0        0   \n",
       "ONA                                       0             1         0        0   \n",
       "OVA                                       1             0         0        0   \n",
       "Special                                   0             2         1        1   \n",
       "TV                                        0             2         0        0   \n",
       "\n",
       "genre    Yaoi  \n",
       "type           \n",
       "Movie       0  \n",
       "Music       0  \n",
       "ONA         0  \n",
       "OVA         2  \n",
       "Special     0  \n",
       "TV          0  \n",
       "\n",
       "[6 rows x 3222 columns]"
      ]
     },
     "execution_count": 41,
     "metadata": {},
     "output_type": "execute_result"
    }
   ],
   "source": [
    "crosstab = pd.crosstab(Anime.type,Anime.genre)\n",
    "crosstab"
   ]
  },
  {
   "cell_type": "code",
   "execution_count": 92,
   "id": "342fae7d",
   "metadata": {},
   "outputs": [
    {
     "name": "stdout",
     "output_type": "stream",
     "text": [
      "we reject the null hypothesis that there is no  difference between the 2 \n"
     ]
    }
   ],
   "source": [
    "chi_square = stats.chi2_contingency(crosstab)\n",
    "if (chi_square[1]<0.05) : \n",
    "    print('we reject the null hypothesis because  there is   difference between the 2 ')\n",
    "else  :\n",
    "    print('we fail to reject the null hypothesis')\n",
    "        "
   ]
  },
  {
   "cell_type": "markdown",
   "id": "e23f51f8",
   "metadata": {},
   "source": [
    "p-value of 0 meaning the two variables type and genre are not independant"
   ]
  },
  {
   "cell_type": "markdown",
   "id": "bb9bd4e3",
   "metadata": {},
   "source": [
    "## Z-test & T-Test"
   ]
  },
  {
   "cell_type": "code",
   "execution_count": 67,
   "id": "9e79d80e",
   "metadata": {},
   "outputs": [],
   "source": [
    "Anime.dropna(subset=['rating'],axis=0,inplace=True)"
   ]
  },
  {
   "cell_type": "code",
   "execution_count": 68,
   "id": "64bf7615",
   "metadata": {},
   "outputs": [
    {
     "data": {
      "text/plain": [
       "0"
      ]
     },
     "execution_count": 68,
     "metadata": {},
     "output_type": "execute_result"
    }
   ],
   "source": [
    "Anime['rating'].isna().sum()"
   ]
  },
  {
   "cell_type": "markdown",
   "id": "016099b8",
   "metadata": {},
   "source": [
    "1 Sample T test"
   ]
  },
  {
   "cell_type": "code",
   "execution_count": 91,
   "id": "d000a721",
   "metadata": {},
   "outputs": [
    {
     "name": "stdout",
     "output_type": "stream",
     "text": [
      "1.534474902893303e-112\n",
      "we reject the null hypothesis that there is no difference between the 2 \n"
     ]
    }
   ],
   "source": [
    "#to perfrom t test on 1 sample \n",
    "#t test is used when we have one small size sample\n",
    "\n",
    "ttest,p_value = stats.ttest_1samp(Anime['members'],30000)\n",
    "print(p_value)\n",
    "if (p_value<0.05) : \n",
    "    print('we reject the null hypothesis because  there is   difference between the 2 ')\n",
    "else  :\n",
    "    print('we fail to reject the null hypothesis')"
   ]
  },
  {
   "cell_type": "markdown",
   "id": "c7d7c199",
   "metadata": {},
   "source": [
    "2 samples T test"
   ]
  },
  {
   "cell_type": "code",
   "execution_count": 90,
   "id": "5637c866",
   "metadata": {},
   "outputs": [
    {
     "name": "stdout",
     "output_type": "stream",
     "text": [
      "1.594512771009332e-281\n",
      "we reject the null hypothesis that there is no  difference between the 2 \n"
     ]
    }
   ],
   "source": [
    "_,p_value1=stats.ttest_ind(a=Anime['rating'],b=Anime['members'],equal_var=True)\n",
    "print(p_value1)\n",
    "if (p_value1<0.05) : \n",
    "    print('we reject the null hypothesis because  there is   difference between the 2 ')\n",
    "else  :\n",
    "    print('we fail to reject the null hypothesis')"
   ]
  },
  {
   "cell_type": "markdown",
   "id": "45ab4680",
   "metadata": {},
   "source": [
    "## Z-test "
   ]
  },
  {
   "cell_type": "code",
   "execution_count": 94,
   "id": "8cdb4533",
   "metadata": {},
   "outputs": [
    {
     "name": "stdout",
     "output_type": "stream",
     "text": [
      "Requirement already satisfied: statsmodels in c:\\users\\madjid\\anaconda3\\lib\\site-packages (0.12.2)\n",
      "Requirement already satisfied: numpy>=1.15 in c:\\users\\madjid\\anaconda3\\lib\\site-packages (from statsmodels) (1.20.1)\n",
      "Requirement already satisfied: scipy>=1.1 in c:\\users\\madjid\\anaconda3\\lib\\site-packages (from statsmodels) (1.6.2)\n",
      "Requirement already satisfied: pandas>=0.21 in c:\\users\\madjid\\anaconda3\\lib\\site-packages (from statsmodels) (1.2.4)\n",
      "Requirement already satisfied: patsy>=0.5 in c:\\users\\madjid\\anaconda3\\lib\\site-packages (from statsmodels) (0.5.1)\n",
      "Requirement already satisfied: pytz>=2017.3 in c:\\users\\madjid\\anaconda3\\lib\\site-packages (from pandas>=0.21->statsmodels) (2021.1)\n",
      "Requirement already satisfied: python-dateutil>=2.7.3 in c:\\users\\madjid\\anaconda3\\lib\\site-packages (from pandas>=0.21->statsmodels) (2.8.1)\n",
      "Requirement already satisfied: six in c:\\users\\madjid\\anaconda3\\lib\\site-packages (from patsy>=0.5->statsmodels) (1.15.0)\n",
      "Note: you may need to restart the kernel to use updated packages.\n"
     ]
    }
   ],
   "source": [
    "pip install statsmodels"
   ]
  },
  {
   "cell_type": "code",
   "execution_count": 98,
   "id": "7732608f",
   "metadata": {},
   "outputs": [
    {
     "name": "stdout",
     "output_type": "stream",
     "text": [
      "we reject the null hypothesis because  there is   difference between the 2 \n"
     ]
    }
   ],
   "source": [
    "from statsmodels.stats.weightstats import ztest as ztest\n",
    "_,pvalue = ztest(Anime.rating,Anime.members,value=0)\n",
    "if (pvalue<0.05) : \n",
    "    print('we reject the null hypothesis because  there is   difference between the 2 ')\n",
    "else  :\n",
    "    print('we fail to reject the null hypothesis')"
   ]
  },
  {
   "cell_type": "markdown",
   "id": "57b4e732",
   "metadata": {},
   "source": [
    "## Multi-Collinearity "
   ]
  },
  {
   "cell_type": "code",
   "execution_count": 101,
   "id": "248d1afc",
   "metadata": {},
   "outputs": [
    {
     "data": {
      "text/html": [
       "<div>\n",
       "<style scoped>\n",
       "    .dataframe tbody tr th:only-of-type {\n",
       "        vertical-align: middle;\n",
       "    }\n",
       "\n",
       "    .dataframe tbody tr th {\n",
       "        vertical-align: top;\n",
       "    }\n",
       "\n",
       "    .dataframe thead th {\n",
       "        text-align: right;\n",
       "    }\n",
       "</style>\n",
       "<table border=\"1\" class=\"dataframe\">\n",
       "  <thead>\n",
       "    <tr style=\"text-align: right;\">\n",
       "      <th></th>\n",
       "      <th>variables</th>\n",
       "      <th>VIF</th>\n",
       "    </tr>\n",
       "  </thead>\n",
       "  <tbody>\n",
       "    <tr>\n",
       "      <th>0</th>\n",
       "      <td>episodes</td>\n",
       "      <td>1.035429</td>\n",
       "    </tr>\n",
       "    <tr>\n",
       "      <th>1</th>\n",
       "      <td>members</td>\n",
       "      <td>1.054158</td>\n",
       "    </tr>\n",
       "    <tr>\n",
       "      <th>2</th>\n",
       "      <td>anime_id</td>\n",
       "      <td>1.060586</td>\n",
       "    </tr>\n",
       "  </tbody>\n",
       "</table>\n",
       "</div>"
      ],
      "text/plain": [
       "  variables       VIF\n",
       "0  episodes  1.035429\n",
       "1   members  1.054158\n",
       "2  anime_id  1.060586"
      ]
     },
     "execution_count": 101,
     "metadata": {},
     "output_type": "execute_result"
    }
   ],
   "source": [
    "from statsmodels.stats.outliers_influence import variance_inflation_factor\n",
    "def Calc_vlf(X) : \n",
    "    vif = pd.DataFrame()\n",
    "    vif['variables'] = X.columns\n",
    "    vif['VIF'] = [variance_inflation_factor(X.values,i) for i in range(X.shape[1])]\n",
    "    return vif\n",
    "X = Anime[['episodes','members','anime_id']]\n",
    "Calc_vlf(X)"
   ]
  },
  {
   "cell_type": "markdown",
   "id": "d70c7f30",
   "metadata": {},
   "source": [
    "we remove variables that have VIF > 10 and manipulate ones with VIF > 5 using PCA for example or adding them together "
   ]
  },
  {
   "cell_type": "markdown",
   "id": "f08f91b3",
   "metadata": {},
   "source": [
    "#### By : \n",
    "Madjid Erroukrma \n",
    "#### Contact : \n",
    "madjidmain@gmail.com"
   ]
  }
 ],
 "metadata": {
  "kernelspec": {
   "display_name": "Python 3",
   "language": "python",
   "name": "python3"
  },
  "language_info": {
   "codemirror_mode": {
    "name": "ipython",
    "version": 3
   },
   "file_extension": ".py",
   "mimetype": "text/x-python",
   "name": "python",
   "nbconvert_exporter": "python",
   "pygments_lexer": "ipython3",
   "version": "3.8.8"
  }
 },
 "nbformat": 4,
 "nbformat_minor": 5
}
